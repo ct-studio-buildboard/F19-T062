{
  "nbformat": 4,
  "nbformat_minor": 0,
  "metadata": {
    "colab": {
      "name": "Copy of transaction.ipynb",
      "provenance": [],
      "collapsed_sections": []
    },
    "kernelspec": {
      "name": "python3",
      "display_name": "Python 3"
    }
  },
  "cells": [
    {
      "cell_type": "code",
      "metadata": {
        "id": "eYD7bqRd1wRG",
        "colab_type": "code",
        "colab": {}
      },
      "source": [
        "import numpy as np\n",
        "import pandas as pd\n",
        "from matplotlib import pyplot as plt"
      ],
      "execution_count": 0,
      "outputs": []
    },
    {
      "cell_type": "code",
      "metadata": {
        "id": "BtUFnKj21yuM",
        "colab_type": "code",
        "colab": {}
      },
      "source": [
        "df = pd.read_csv('transactions-sample.csv')"
      ],
      "execution_count": 0,
      "outputs": []
    },
    {
      "cell_type": "code",
      "metadata": {
        "id": "l1hiN56b9JXv",
        "colab_type": "code",
        "colab": {}
      },
      "source": [
        "df['date'] = pd.to_datetime(df['date'])\n",
        "df['month'] = df['date'].dt.to_period('M')"
      ],
      "execution_count": 0,
      "outputs": []
    },
    {
      "cell_type": "code",
      "metadata": {
        "id": "gc3m3y7HA4W4",
        "colab_type": "code",
        "colab": {}
      },
      "source": [
        "df['amount'] = df['purchaseamount']*df['purchasequantity']"
      ],
      "execution_count": 0,
      "outputs": []
    },
    {
      "cell_type": "code",
      "metadata": {
        "id": "xJl7gbHG2EHY",
        "colab_type": "code",
        "outputId": "69657a0b-7bd4-4cd9-d1f7-fb5eb159f125",
        "colab": {
          "base_uri": "https://localhost:8080/",
          "height": 243
        }
      },
      "source": [
        "for zzz in list(df.columns):\n",
        "    print(str(df[zzz].nunique())+\"\\t= unique values for \"+ zzz)"
      ],
      "execution_count": 0,
      "outputs": [
        {
          "output_type": "stream",
          "text": [
            "5\t= unique values for id\n",
            "2\t= unique values for chain\n",
            "82\t= unique values for dept\n",
            "661\t= unique values for category\n",
            "1355\t= unique values for company\n",
            "1805\t= unique values for brand\n",
            "462\t= unique values for date\n",
            "653\t= unique values for productsize\n",
            "6\t= unique values for productmeasure\n",
            "24\t= unique values for purchasequantity\n",
            "1514\t= unique values for purchaseamount\n",
            "16\t= unique values for month\n",
            "1907\t= unique values for amount\n"
          ],
          "name": "stdout"
        }
      ]
    },
    {
      "cell_type": "code",
      "metadata": {
        "id": "iZuZm6_w2Sm5",
        "colab_type": "code",
        "outputId": "75aefae9-3b6f-402a-f87a-29ed6855cd72",
        "colab": {
          "base_uri": "https://localhost:8080/",
          "height": 139
        }
      },
      "source": [
        "df.groupby('id')['purchaseamount'].sum()"
      ],
      "execution_count": 0,
      "outputs": [
        {
          "output_type": "execute_result",
          "data": {
            "text/plain": [
              "id\n",
              "86246       52828.12\n",
              "86252       53592.90\n",
              "12262064     4118.18\n",
              "12277270     8085.44\n",
              "12332190     3587.71\n",
              "Name: purchaseamount, dtype: float64"
            ]
          },
          "metadata": {
            "tags": []
          },
          "execution_count": 6
        }
      ]
    },
    {
      "cell_type": "code",
      "metadata": {
        "id": "dumrdAkYEu6a",
        "colab_type": "code",
        "outputId": "19d91647-c577-453a-a7e7-bee550ba76ce",
        "colab": {
          "base_uri": "https://localhost:8080/",
          "height": 225
        }
      },
      "source": [
        "df.groupby('category')['purchaseamount'].sum().sort_values(ascending=False).head(10)"
      ],
      "execution_count": 0,
      "outputs": [
        {
          "output_type": "execute_result",
          "data": {
            "text/plain": [
              "category\n",
              "9753    9970.04\n",
              "6401    9259.91\n",
              "907     2898.80\n",
              "6315    2550.65\n",
              "4509    2278.29\n",
              "8101    2055.72\n",
              "6408    1907.53\n",
              "3303    1696.42\n",
              "9908    1585.10\n",
              "5620    1564.04\n",
              "Name: purchaseamount, dtype: float64"
            ]
          },
          "metadata": {
            "tags": []
          },
          "execution_count": 7
        }
      ]
    },
    {
      "cell_type": "code",
      "metadata": {
        "id": "VUZIGQ4HNb90",
        "colab_type": "code",
        "colab": {}
      },
      "source": [
        "p1 = df['id'] == 86246\n",
        "p2 = df['id'] == 86252\n",
        "p3 = df['id'] == 12262064\n",
        "p4 = df['id'] == 12277270\n",
        "p5 = df['id'] == 12332190\n",
        "x0 = df['category'] == 9753\n",
        "x1 = df['category'] == 6401\n",
        "x2 = df['category'] == 907\n",
        "x3 = df['category'] == 6315\n",
        "x4 = df['category'] == 4509\n",
        "x5 = df['category'] == 8101\n",
        "x6 = df['category'] == 6408\n",
        "x7 = df['category'] == 3303\n",
        "x8 = df['category'] == 9908\n",
        "x9 = df['category'] == 5620"
      ],
      "execution_count": 0,
      "outputs": []
    },
    {
      "cell_type": "code",
      "metadata": {
        "id": "c8sGvC8xNije",
        "colab_type": "code",
        "colab": {}
      },
      "source": [
        "df1 = df[x0 & (p5 | p1 |p2|p3|p4)]\n",
        "df2 = df[x1 & (p5 | p1 |p2|p3|p4)]\n",
        "df3 = df[x2 & (p5 | p1 |p2|p3|p4)]\n",
        "df4 = df[x3 & (p5 | p1 |p2|p3|p4)]\n",
        "df5 = df[x4 & (p5 | p1 |p2|p3|p4)]\n",
        "df6 = df[x5 & (p5 | p1 |p2|p3|p4)]\n",
        "df7 = df[x6 & (p5 | p1 |p2|p3|p4)]\n",
        "df8 = df[x7 & (p5 | p1 |p2|p3|p4)]\n",
        "df9 = df[x8 & (p5 | p1 |p2|p3|p4)]\n",
        "df10 = df[x9 & (p5 | p1 |p2|p3|p4)]"
      ],
      "execution_count": 0,
      "outputs": []
    },
    {
      "cell_type": "code",
      "metadata": {
        "colab_type": "code",
        "outputId": "8421d509-3282-4fc0-90f3-ab17e1a195a5",
        "id": "EOLKuI8t_sEe",
        "colab": {
          "base_uri": "https://localhost:8080/",
          "height": 282
        }
      },
      "source": [
        "plt.bar(range(5),df9.groupby('id')['purchaseamount'].sum().head())"
      ],
      "execution_count": 0,
      "outputs": [
        {
          "output_type": "execute_result",
          "data": {
            "text/plain": [
              "<BarContainer object of 5 artists>"
            ]
          },
          "metadata": {
            "tags": []
          },
          "execution_count": 10
        },
        {
          "output_type": "display_data",
          "data": {
            "image/png": "[encoded data removed]",
            "text/plain": [
              "<Figure size 432x288 with 1 Axes>"
            ]
          },
          "metadata": {
            "tags": []
          }
        }
      ]
    },
    {
      "cell_type": "code",
      "metadata": {
        "id": "tABcw5bkvSsK",
        "colab_type": "code",
        "colab": {}
      },
      "source": [
        "num1 = np.array(df1.groupby('id')['purchaseamount'].sum().head())\n",
        "num2 = np.array(df2.groupby('id')['purchaseamount'].sum().head())\n",
        "num3 = np.array(df3.groupby('id')['purchaseamount'].sum().head())\n",
        "num4 = np.array(df4.groupby('id')['purchaseamount'].sum().head())\n",
        "num5 = np.array(df9.groupby('id')['purchaseamount'].sum().head())\n",
        "tot = num1 + num2 + num3 + num4 + num5\n",
        "c = []\n",
        "for i in [num1 , num2,  num3 , num4 , num5]:\n",
        "    c.append(i/tot*100)"
      ],
      "execution_count": 0,
      "outputs": []
    },
    {
      "cell_type": "code",
      "metadata": {
        "id": "KUzDFb10QGTh",
        "colab_type": "code",
        "outputId": "32cdf90f-2d76-4f6f-d415-51a71a419afd",
        "colab": {
          "base_uri": "https://localhost:8080/",
          "height": 295
        }
      },
      "source": [
        "pl1 = plt.bar(range(5),num1, color=\"#003f5c\")\n",
        "pl2 = plt.bar(range(5),num2, bottom=num1, color=\"#58508d\")\n",
        "pl3 = plt.bar(range(5),num3, bottom=(num1+num2), color=\"#bc5090\")\n",
        "pl4 = plt.bar(range(5),num4, bottom=(num1+num2+num3), color=\"#ff6361\")\n",
        "pl5 = plt.bar(range(5),num5, bottom=(num1+num2+num3+num4), color=\"#ffa600\")\n",
        "\n",
        "plt.ylabel(\"Total Amount per Category ($)\")\n",
        "plt.xlabel(\"Customer Id\")\n",
        "plt.title(\"Total spending per person since inception\")\n",
        "plt.xticks(range(5), ('P1', 'P2', 'P3', 'P4', 'P5'))\n",
        "plt.yticks(np.arange(0, 12000, 1000))\n",
        "plt.legend((pl1[0], pl2[0],pl3[0],pl4[0],pl5[0]), ('Dining', 'Entertainment', 'Groceries', 'Transportation', 'Subscriptions'))\n",
        "\n",
        "plt.show()"
      ],
      "execution_count": 0,
      "outputs": [
        {
          "output_type": "display_data",
          "data": {
            "image/png": "[encoded data removed]",
            "text/plain": [
              "<Figure size 432x288 with 1 Axes>"
            ]
          },
          "metadata": {
            "tags": []
          }
        }
      ]
    },
    {
      "cell_type": "code",
      "metadata": {
        "id": "wD34s7rgZEiO",
        "colab_type": "code",
        "outputId": "24db1236-471c-40f6-98d8-1df2cdc7a7d1",
        "colab": {
          "base_uri": "https://localhost:8080/",
          "height": 295
        }
      },
      "source": [
        "pl1 = plt.bar(range(5),c[0], color=\"#003f5c\")\n",
        "pl2 = plt.bar(range(5),c[1], bottom=c[0], color=\"#58508d\")\n",
        "pl3 = plt.bar(range(5),c[2], bottom=(c[0]+c[1]), color=\"#bc5090\")\n",
        "pl4 = plt.bar(range(5),c[3], bottom=(c[0]+c[1]+c[2]), color=\"#ff6361\")\n",
        "pl5 = plt.bar(range(5),c[4], bottom=(c[0]+c[1]+c[2]+c[3]), color=\"#ffa600\")\n",
        "\n",
        "plt.ylabel(\"Percentage Spent per Category\")\n",
        "plt.xlabel(\"Customer Id\")\n",
        "plt.title(\"Category-wise % spending since inception\")\n",
        "plt.xticks(range(5), ('P1', 'P2', 'P3', 'P4', 'P5'))\n",
        "plt.yticks(np.arange(0, 100, 10))\n",
        "plt.legend((pl1[0], pl2[0],pl3[0],pl4[0],pl5[0]), ('Dining', 'Entertainment', 'Groceries', 'Transportation', 'Subscriptions'))\n",
        "\n",
        "plt.show()"
      ],
      "execution_count": 0,
      "outputs": [
        {
          "output_type": "display_data",
          "data": {
            "image/png": "[encoded data removed]",
            "text/plain": [
              "<Figure size 432x288 with 1 Axes>"
            ]
          },
          "metadata": {
            "tags": []
          }
        }
      ]
    },
    {
      "cell_type": "code",
      "metadata": {
        "id": "3Fh5qycHAtLt",
        "colab_type": "code",
        "colab": {}
      },
      "source": [
        "c1 = df[p4]"
      ],
      "execution_count": 0,
      "outputs": []
    },
    {
      "cell_type": "code",
      "metadata": {
        "id": "NqJ8K01BOnjd",
        "colab_type": "code",
        "outputId": "9028aa0c-c229-464e-cffa-27b0f3cb1bd2",
        "colab": {
          "base_uri": "https://localhost:8080/",
          "height": 603
        }
      },
      "source": [
        "c1.groupby('month').count()"
      ],
      "execution_count": 0,
      "outputs": [
        {
          "output_type": "execute_result",
          "data": {
            "text/html": [
              "<div>\n",
              "<style scoped>\n",
              "    .dataframe tbody tr th:only-of-type {\n",
              "        vertical-align: middle;\n",
              "    }\n",
              "\n",
              "    .dataframe tbody tr th {\n",
              "        vertical-align: top;\n",
              "    }\n",
              "\n",
              "    .dataframe thead th {\n",
              "        text-align: right;\n",
              "    }\n",
              "</style>\n",
              "<table border=\"1\" class=\"dataframe\">\n",
              "  <thead>\n",
              "    <tr style=\"text-align: right;\">\n",
              "      <th></th>\n",
              "      <th>id</th>\n",
              "      <th>chain</th>\n",
              "      <th>dept</th>\n",
              "      <th>category</th>\n",
              "      <th>company</th>\n",
              "      <th>brand</th>\n",
              "      <th>date</th>\n",
              "      <th>productsize</th>\n",
              "      <th>productmeasure</th>\n",
              "      <th>purchasequantity</th>\n",
              "      <th>purchaseamount</th>\n",
              "      <th>amount</th>\n",
              "    </tr>\n",
              "    <tr>\n",
              "      <th>month</th>\n",
              "      <th></th>\n",
              "      <th></th>\n",
              "      <th></th>\n",
              "      <th></th>\n",
              "      <th></th>\n",
              "      <th></th>\n",
              "      <th></th>\n",
              "      <th></th>\n",
              "      <th></th>\n",
              "      <th></th>\n",
              "      <th></th>\n",
              "      <th></th>\n",
              "    </tr>\n",
              "  </thead>\n",
              "  <tbody>\n",
              "    <tr>\n",
              "      <th>2012-03</th>\n",
              "      <td>78</td>\n",
              "      <td>78</td>\n",
              "      <td>78</td>\n",
              "      <td>78</td>\n",
              "      <td>78</td>\n",
              "      <td>78</td>\n",
              "      <td>78</td>\n",
              "      <td>78</td>\n",
              "      <td>76</td>\n",
              "      <td>78</td>\n",
              "      <td>78</td>\n",
              "      <td>78</td>\n",
              "    </tr>\n",
              "    <tr>\n",
              "      <th>2012-04</th>\n",
              "      <td>118</td>\n",
              "      <td>118</td>\n",
              "      <td>118</td>\n",
              "      <td>118</td>\n",
              "      <td>118</td>\n",
              "      <td>118</td>\n",
              "      <td>118</td>\n",
              "      <td>118</td>\n",
              "      <td>116</td>\n",
              "      <td>118</td>\n",
              "      <td>118</td>\n",
              "      <td>118</td>\n",
              "    </tr>\n",
              "    <tr>\n",
              "      <th>2012-05</th>\n",
              "      <td>80</td>\n",
              "      <td>80</td>\n",
              "      <td>80</td>\n",
              "      <td>80</td>\n",
              "      <td>80</td>\n",
              "      <td>80</td>\n",
              "      <td>80</td>\n",
              "      <td>80</td>\n",
              "      <td>79</td>\n",
              "      <td>80</td>\n",
              "      <td>80</td>\n",
              "      <td>80</td>\n",
              "    </tr>\n",
              "    <tr>\n",
              "      <th>2012-06</th>\n",
              "      <td>95</td>\n",
              "      <td>95</td>\n",
              "      <td>95</td>\n",
              "      <td>95</td>\n",
              "      <td>95</td>\n",
              "      <td>95</td>\n",
              "      <td>95</td>\n",
              "      <td>95</td>\n",
              "      <td>93</td>\n",
              "      <td>95</td>\n",
              "      <td>95</td>\n",
              "      <td>95</td>\n",
              "    </tr>\n",
              "    <tr>\n",
              "      <th>2012-07</th>\n",
              "      <td>75</td>\n",
              "      <td>75</td>\n",
              "      <td>75</td>\n",
              "      <td>75</td>\n",
              "      <td>75</td>\n",
              "      <td>75</td>\n",
              "      <td>75</td>\n",
              "      <td>75</td>\n",
              "      <td>74</td>\n",
              "      <td>75</td>\n",
              "      <td>75</td>\n",
              "      <td>75</td>\n",
              "    </tr>\n",
              "    <tr>\n",
              "      <th>2012-08</th>\n",
              "      <td>82</td>\n",
              "      <td>82</td>\n",
              "      <td>82</td>\n",
              "      <td>82</td>\n",
              "      <td>82</td>\n",
              "      <td>82</td>\n",
              "      <td>82</td>\n",
              "      <td>82</td>\n",
              "      <td>81</td>\n",
              "      <td>82</td>\n",
              "      <td>82</td>\n",
              "      <td>82</td>\n",
              "    </tr>\n",
              "    <tr>\n",
              "      <th>2012-09</th>\n",
              "      <td>119</td>\n",
              "      <td>119</td>\n",
              "      <td>119</td>\n",
              "      <td>119</td>\n",
              "      <td>119</td>\n",
              "      <td>119</td>\n",
              "      <td>119</td>\n",
              "      <td>119</td>\n",
              "      <td>119</td>\n",
              "      <td>119</td>\n",
              "      <td>119</td>\n",
              "      <td>119</td>\n",
              "    </tr>\n",
              "    <tr>\n",
              "      <th>2012-10</th>\n",
              "      <td>99</td>\n",
              "      <td>99</td>\n",
              "      <td>99</td>\n",
              "      <td>99</td>\n",
              "      <td>99</td>\n",
              "      <td>99</td>\n",
              "      <td>99</td>\n",
              "      <td>99</td>\n",
              "      <td>98</td>\n",
              "      <td>99</td>\n",
              "      <td>99</td>\n",
              "      <td>99</td>\n",
              "    </tr>\n",
              "    <tr>\n",
              "      <th>2012-11</th>\n",
              "      <td>74</td>\n",
              "      <td>74</td>\n",
              "      <td>74</td>\n",
              "      <td>74</td>\n",
              "      <td>74</td>\n",
              "      <td>74</td>\n",
              "      <td>74</td>\n",
              "      <td>74</td>\n",
              "      <td>73</td>\n",
              "      <td>74</td>\n",
              "      <td>74</td>\n",
              "      <td>74</td>\n",
              "    </tr>\n",
              "    <tr>\n",
              "      <th>2012-12</th>\n",
              "      <td>77</td>\n",
              "      <td>77</td>\n",
              "      <td>77</td>\n",
              "      <td>77</td>\n",
              "      <td>77</td>\n",
              "      <td>77</td>\n",
              "      <td>77</td>\n",
              "      <td>77</td>\n",
              "      <td>74</td>\n",
              "      <td>77</td>\n",
              "      <td>77</td>\n",
              "      <td>77</td>\n",
              "    </tr>\n",
              "    <tr>\n",
              "      <th>2013-01</th>\n",
              "      <td>84</td>\n",
              "      <td>84</td>\n",
              "      <td>84</td>\n",
              "      <td>84</td>\n",
              "      <td>84</td>\n",
              "      <td>84</td>\n",
              "      <td>84</td>\n",
              "      <td>84</td>\n",
              "      <td>82</td>\n",
              "      <td>84</td>\n",
              "      <td>84</td>\n",
              "      <td>84</td>\n",
              "    </tr>\n",
              "    <tr>\n",
              "      <th>2013-02</th>\n",
              "      <td>122</td>\n",
              "      <td>122</td>\n",
              "      <td>122</td>\n",
              "      <td>122</td>\n",
              "      <td>122</td>\n",
              "      <td>122</td>\n",
              "      <td>122</td>\n",
              "      <td>122</td>\n",
              "      <td>122</td>\n",
              "      <td>122</td>\n",
              "      <td>122</td>\n",
              "      <td>122</td>\n",
              "    </tr>\n",
              "    <tr>\n",
              "      <th>2013-03</th>\n",
              "      <td>63</td>\n",
              "      <td>63</td>\n",
              "      <td>63</td>\n",
              "      <td>63</td>\n",
              "      <td>63</td>\n",
              "      <td>63</td>\n",
              "      <td>63</td>\n",
              "      <td>63</td>\n",
              "      <td>62</td>\n",
              "      <td>63</td>\n",
              "      <td>63</td>\n",
              "      <td>63</td>\n",
              "    </tr>\n",
              "    <tr>\n",
              "      <th>2013-04</th>\n",
              "      <td>63</td>\n",
              "      <td>63</td>\n",
              "      <td>63</td>\n",
              "      <td>63</td>\n",
              "      <td>63</td>\n",
              "      <td>63</td>\n",
              "      <td>63</td>\n",
              "      <td>63</td>\n",
              "      <td>62</td>\n",
              "      <td>63</td>\n",
              "      <td>63</td>\n",
              "      <td>63</td>\n",
              "    </tr>\n",
              "    <tr>\n",
              "      <th>2013-05</th>\n",
              "      <td>96</td>\n",
              "      <td>96</td>\n",
              "      <td>96</td>\n",
              "      <td>96</td>\n",
              "      <td>96</td>\n",
              "      <td>96</td>\n",
              "      <td>96</td>\n",
              "      <td>96</td>\n",
              "      <td>92</td>\n",
              "      <td>96</td>\n",
              "      <td>96</td>\n",
              "      <td>96</td>\n",
              "    </tr>\n",
              "    <tr>\n",
              "      <th>2013-06</th>\n",
              "      <td>36</td>\n",
              "      <td>36</td>\n",
              "      <td>36</td>\n",
              "      <td>36</td>\n",
              "      <td>36</td>\n",
              "      <td>36</td>\n",
              "      <td>36</td>\n",
              "      <td>36</td>\n",
              "      <td>34</td>\n",
              "      <td>36</td>\n",
              "      <td>36</td>\n",
              "      <td>36</td>\n",
              "    </tr>\n",
              "  </tbody>\n",
              "</table>\n",
              "</div>"
            ],
            "text/plain": [
              "          id  chain  dept  ...  purchasequantity  purchaseamount  amount\n",
              "month                      ...                                          \n",
              "2012-03   78     78    78  ...                78              78      78\n",
              "2012-04  118    118   118  ...               118             118     118\n",
              "2012-05   80     80    80  ...                80              80      80\n",
              "2012-06   95     95    95  ...                95              95      95\n",
              "2012-07   75     75    75  ...                75              75      75\n",
              "2012-08   82     82    82  ...                82              82      82\n",
              "2012-09  119    119   119  ...               119             119     119\n",
              "2012-10   99     99    99  ...                99              99      99\n",
              "2012-11   74     74    74  ...                74              74      74\n",
              "2012-12   77     77    77  ...                77              77      77\n",
              "2013-01   84     84    84  ...                84              84      84\n",
              "2013-02  122    122   122  ...               122             122     122\n",
              "2013-03   63     63    63  ...                63              63      63\n",
              "2013-04   63     63    63  ...                63              63      63\n",
              "2013-05   96     96    96  ...                96              96      96\n",
              "2013-06   36     36    36  ...                36              36      36\n",
              "\n",
              "[16 rows x 12 columns]"
            ]
          },
          "metadata": {
            "tags": []
          },
          "execution_count": 15
        }
      ]
    },
    {
      "cell_type": "code",
      "metadata": {
        "id": "kWdk6uHO081s",
        "colab_type": "code",
        "outputId": "287f9c7d-b1c5-426f-db42-f4518d9d0347",
        "colab": {
          "base_uri": "https://localhost:8080/",
          "height": 225
        }
      },
      "source": [
        "c1.groupby('category')['amount'].sum().sort_values(ascending=False).head(10)"
      ],
      "execution_count": 0,
      "outputs": [
        {
          "output_type": "execute_result",
          "data": {
            "text/plain": [
              "category\n",
              "6401    1892.91\n",
              "3307    1610.23\n",
              "9753     568.42\n",
              "2722     392.02\n",
              "4513     313.73\n",
              "3601     293.42\n",
              "907      273.10\n",
              "708      270.94\n",
              "4509     252.78\n",
              "1114     220.75\n",
              "Name: amount, dtype: float64"
            ]
          },
          "metadata": {
            "tags": []
          },
          "execution_count": 16
        }
      ]
    },
    {
      "cell_type": "code",
      "metadata": {
        "id": "gcEgqOpIGOcr",
        "colab_type": "code",
        "colab": {}
      },
      "source": [
        "cat1 = c1['category'] == 6401\n",
        "cat2 = c1['category'] == 3307 \n",
        "cat3 = c1['category'] == 9753 \n",
        "cat4 = c1['category'] == 2722\n"
      ],
      "execution_count": 0,
      "outputs": []
    },
    {
      "cell_type": "code",
      "metadata": {
        "id": "j8p_m7fcO2C7",
        "colab_type": "code",
        "colab": {}
      },
      "source": [
        "per = c1['month'] > pd.to_datetime('2012-12')"
      ],
      "execution_count": 0,
      "outputs": []
    },
    {
      "cell_type": "code",
      "metadata": {
        "id": "0TXMMtFi9ElY",
        "colab_type": "code",
        "colab": {}
      },
      "source": [
        "sp = []\n",
        "for i in [cat1,cat2, cat3,cat4] :\n",
        "    sp.append(c1[i & per].groupby('month')['amount'].sum())"
      ],
      "execution_count": 0,
      "outputs": []
    },
    {
      "cell_type": "code",
      "metadata": {
        "id": "ePrafWaeGOYS",
        "colab_type": "code",
        "outputId": "f262583f-b13e-41e9-be65-2ffef773c58d",
        "colab": {
          "base_uri": "https://localhost:8080/",
          "height": 295
        }
      },
      "source": [
        "pl1 = plt.bar(range(6),sp[0], color=\"#bc5090\")\n",
        "pl2 = plt.bar(range(6),sp[1], bottom=sp[0], color=\"#ff6361\")\n",
        "pl3 = plt.bar(range(6),sp[2], bottom=(sp[0]+sp[1]), color=\"#ffa600\")\n",
        "\n",
        "plt.ylabel(\"Total Amount per Category ($)\")\n",
        "plt.xlabel(\"Month\")\n",
        "plt.title(\"For customer 1, spending per month\")\n",
        "plt.xticks(range(5), ('Jan', 'Feb', 'Mar', 'Apr', 'May'))\n",
        "# plt.yticks(np.arange(0, 12000, 1000))\n",
        "plt.legend((pl1[0], pl2[0],pl3[0]), ('Dining', 'Entertainment', 'Groceries'))\n",
        "\n",
        "\n",
        "plt.show()"
      ],
      "execution_count": 0,
      "outputs": [
        {
          "output_type": "display_data",
          "data": {
            "image/png": "[encoded data removed]",
            "text/plain": [
              "<Figure size 432x288 with 1 Axes>"
            ]
          },
          "metadata": {
            "tags": []
          }
        }
      ]
    }
  ]
}