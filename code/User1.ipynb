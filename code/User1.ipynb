{
  "nbformat": 4,
  "nbformat_minor": 0,
  "metadata": {
    "colab": {
      "name": "kim.ipynb",
      "provenance": []
    },
    "kernelspec": {
      "name": "python3",
      "display_name": "Python 3"
    }
  },
  "cells": [
    {
      "cell_type": "code",
      "metadata": {
        "id": "08krg5OLOXsB",
        "colab_type": "code",
        "colab": {}
      },
      "source": [
        "import numpy as np\n",
        "import pandas as pd\n",
        "from matplotlib import pyplot as plt"
      ],
      "execution_count": 0,
      "outputs": []
    },
    {
      "cell_type": "code",
      "metadata": {
        "id": "eb2urfgKyyh5",
        "colab_type": "code",
        "colab": {}
      },
      "source": [
        "df = pd.read_csv('num.csv')\n",
        "df['date'] = pd.to_datetime(df['date'], dayfirst=True)\n",
        "df['month'] = df['date'].dt.to_period('M')"
      ],
      "execution_count": 0,
      "outputs": []
    },
    {
      "cell_type": "code",
      "metadata": {
        "id": "p_18VNqMy7Ng",
        "colab_type": "code",
        "outputId": "89ace185-1e5d-4930-afc0-c0588ba47c7b",
        "colab": {
          "base_uri": "https://localhost:8080/",
          "height": 208
        }
      },
      "source": [
        "df.groupby('cat')['amt'].sum().sort_values(ascending=False)"
      ],
      "execution_count": 3,
      "outputs": [
        {
          "output_type": "execute_result",
          "data": {
            "text/plain": [
              "cat\n",
              "Payment                        4000.00\n",
              "Restaurant and Dining          1045.93\n",
              "Shopping and Entertainment      834.24\n",
              "Groceries                       460.56\n",
              "Travel                          448.40\n",
              "Personal Care                   389.55\n",
              "Pet Care                         68.30\n",
              "Education                        65.28\n",
              "Donation                         50.00\n",
              "Name: amt, dtype: float64"
            ]
          },
          "metadata": {
            "tags": []
          },
          "execution_count": 3
        }
      ]
    },
    {
      "cell_type": "markdown",
      "metadata": {
        "id": "iVSS9OHkLx8o",
        "colab_type": "text"
      },
      "source": [
        "Good stuff"
      ]
    },
    {
      "cell_type": "code",
      "metadata": {
        "id": "vI4nVqIJCUwR",
        "colab_type": "code",
        "outputId": "059b9eac-334c-4ca7-ce72-40fdcc17d368",
        "colab": {
          "base_uri": "https://localhost:8080/",
          "height": 208
        }
      },
      "source": [
        "df.groupby('cat')['amt'].count().sort_values(ascending=False)"
      ],
      "execution_count": 4,
      "outputs": [
        {
          "output_type": "execute_result",
          "data": {
            "text/plain": [
              "cat\n",
              "Restaurant and Dining          39\n",
              "Shopping and Entertainment     20\n",
              "Travel                         17\n",
              "Groceries                      16\n",
              "Payment                        11\n",
              "Personal Care                   8\n",
              "Pet Care                        2\n",
              "Education                       1\n",
              "Donation                        1\n",
              "Name: amt, dtype: int64"
            ]
          },
          "metadata": {
            "tags": []
          },
          "execution_count": 4
        }
      ]
    },
    {
      "cell_type": "markdown",
      "metadata": {
        "id": "nqMOYllyL05N",
        "colab_type": "text"
      },
      "source": [
        "Taking weekly goals for Groceries, Restaurant & Dining, Shopping & Entertainment----> EACH = 100"
      ]
    },
    {
      "cell_type": "code",
      "metadata": {
        "id": "y5bPmmRGICL9",
        "colab_type": "code",
        "colab": {}
      },
      "source": [
        "din = df[df.cat == 'Restaurant and Dining '].groupby('date')['amt'].sum()\n",
        "gr = df[df.cat == 'Groceries '].groupby('date')['amt'].sum()\n",
        "sh = df[df.cat == 'Shopping and Entertainment '].groupby('date')['amt'].sum()"
      ],
      "execution_count": 0,
      "outputs": []
    },
    {
      "cell_type": "code",
      "metadata": {
        "id": "p32dRr8SguKN",
        "colab_type": "code",
        "colab": {}
      },
      "source": [
        "days = df.date.unique()"
      ],
      "execution_count": 0,
      "outputs": []
    },
    {
      "cell_type": "code",
      "metadata": {
        "id": "2isHcZ3Xr6-l",
        "colab_type": "code",
        "colab": {}
      },
      "source": [
        "dins = []\n",
        "grs = []\n",
        "shop = []\n",
        "for z in days:\n",
        "    if z in din:\n",
        "        dins.append(din[z])\n",
        "    else:\n",
        "        dins.append(0)\n",
        "    if z in gr:\n",
        "        grs.append(gr[z])\n",
        "    else:\n",
        "        grs.append(0)\n",
        "    if z in sh:\n",
        "        shop.append(sh[z])\n",
        "    else:\n",
        "        shop.append(0)"
      ],
      "execution_count": 0,
      "outputs": []
    },
    {
      "cell_type": "code",
      "metadata": {
        "id": "Gnslgythr6sQ",
        "colab_type": "code",
        "colab": {}
      },
      "source": [
        "daily = pd.DataFrame({'din':dins, 'gr':grs, 'sh':shop})"
      ],
      "execution_count": 0,
      "outputs": []
    },
    {
      "cell_type": "code",
      "metadata": {
        "id": "NImaCcKdr6mP",
        "colab_type": "code",
        "colab": {}
      },
      "source": [
        "daily['w_gr'] = daily['gr'].rolling(7).sum().shift(1)\n",
        "daily['w_sh'] = daily['sh'].rolling(7).sum().shift(1)\n",
        "daily['w_din'] = daily['din'].rolling(7).sum().shift(1)"
      ],
      "execution_count": 0,
      "outputs": []
    },
    {
      "cell_type": "code",
      "metadata": {
        "id": "anXcdrPUra1K",
        "colab_type": "code",
        "colab": {}
      },
      "source": [
        "daily['w_gr'] = daily['w_gr']/7\n",
        "daily['w_sh'] = daily['w_sh']/7\n",
        "daily['w_din'] = daily['w_din']/7"
      ],
      "execution_count": 0,
      "outputs": []
    },
    {
      "cell_type": "code",
      "metadata": {
        "id": "YhPnt6Woq7LH",
        "colab_type": "code",
        "outputId": "367f5c86-3c60-49e8-f971-b3b375da3693",
        "colab": {
          "base_uri": "https://localhost:8080/",
          "height": 295
        }
      },
      "source": [
        "pl1 = plt.plot(daily['w_din'],c=\"#58508d\")\n",
        "pl2 = plt.plot(daily['w_gr'], c=\"#bc5090\")\n",
        "pl3 = plt.plot(daily['w_sh'], c=\"#ff6361\")\n",
        "pl4 = plt.plot(range(7,32),[50]*25)\n",
        "plt.ylabel(\"Amount Spent per Category, weekly\")\n",
        "plt.xlabel(\"time in days\")\n",
        "plt.title(\"U's Category-wise spending\")\n",
        "plt.legend((pl1[0], pl2[0],pl3[0],pl4[0]), ('Restaurant and Dining', 'Groceries', 'Shopping and Entertainment','Goal'))\n",
        "plt.show()"
      ],
      "execution_count": 11,
      "outputs": [
        {
          "output_type": "display_data",
          "data": {
            "image/png": "[encoded data removed]",
            "text/plain": [
              "<Figure size 432x288 with 1 Axes>"
            ]
          },
          "metadata": {
            "tags": []
          }
        }
      ]
    },
    {
      "cell_type": "code",
      "metadata": {
        "id": "9uPhIaC139lE",
        "colab_type": "code",
        "colab": {}
      },
      "source": [
        ""
      ],
      "execution_count": 0,
      "outputs": []
    }
  ]
}